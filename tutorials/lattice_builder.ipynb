{
 "cells": [
  {
   "cell_type": "markdown",
   "id": "3e601096-4d3a-467c-b2e2-428526c3d1da",
   "metadata": {},
   "source": [
    "# Lattice builder\n",
    "\n",
    "Show the basic functionality of the lattice builder by creating a hydrogel network based on the diamond lattice."
   ]
  },
  {
   "cell_type": "code",
   "execution_count": null,
   "id": "3ce04200-db14-4503-b729-3bb43dc06e59",
   "metadata": {},
   "outputs": [],
   "source": [
    "import matplotlib.pyplot as plt\n",
    "%matplotlib inline\n",
    "%matplotlib ipympl"
   ]
  },
  {
   "cell_type": "code",
   "execution_count": null,
   "id": "a5773586-fb40-4991-b2ce-feb9a651e311",
   "metadata": {},
   "outputs": [],
   "source": [
    "import lib.lattice\n",
    "import matplotlib\n",
    "import logging\n",
    "import sys\n",
    "import packaging.specifiers\n",
    "plt.rcParams.update({'font.size': 14})\n",
    "logging.basicConfig(level=logging.INFO, stream=sys.stdout)\n",
    "mpl_has_aspect_ratio = packaging.specifiers.SpecifierSet(\">=3.7.0\").contains(matplotlib.__version__)\n",
    "if not mpl_has_aspect_ratio:\n",
    "    logging.warning(f\"matplotlib version {matplotlib.__version__} is too old for Axes3D; you won't be able to set the Axes3D aspect ratio to 1:1:1\")"
   ]
  },
  {
   "cell_type": "markdown",
   "id": "a2cdacc1-49ba-45e7-a057-c107b2b356b9",
   "metadata": {},
   "source": [
    "We will define a diamond lattice with default chains,\n",
    "then overwrite one of the default chains with a custom sequence of residues.\n",
    "This sequence is asymmetric and requires specifying the direction of the chain.\n",
    "We will also override the type of one node residue."
   ]
  },
  {
   "cell_type": "code",
   "execution_count": null,
   "id": "fc6824ac-aaae-4dc7-ae05-509c2d1370a3",
   "metadata": {},
   "outputs": [],
   "source": [
    "# create a custom lattice\n",
    "lattice = lib.lattice.LatticeBuilder(lib.lattice.DiamondLattice)\n",
    "lattice.add_default_chains(mpc=1)\n",
    "lattice.set_node(node=\"[1 1 1]\", residue=\"silicon\")\n",
    "lattice.set_chain(node_start=\"[0 0 0]\", node_end=\"[1 1 1]\",\n",
    "                  sequence=[\"nitrogen\", \"carbon\", \"oxygen\", \"carbon\"])"
   ]
  },
  {
   "cell_type": "markdown",
   "id": "f7a85abc-ef75-40c5-bb11-cfd8bcd95daf",
   "metadata": {},
   "source": [
    "We will now plot the hydrogel in an interactive 3D viewer.\n",
    "We could use the default matplotlib color wheel, but since we have a lot of residue types,\n",
    "we will instead define our own color wheel.\n",
    "The order of the keys in the dictionary will determine the order of the residues in the matplotlib legend."
   ]
  },
  {
   "cell_type": "code",
   "execution_count": null,
   "id": "57093b09-ec0a-4c39-876a-e3cebfa0f03b",
   "metadata": {},
   "outputs": [],
   "source": [
    "# custom discrete color wheel\n",
    "colormap = {\n",
    "    \"default_linker\": \"C0\",\n",
    "    \"default_monomer\": \"C1\",\n",
    "    \"silicon\": \"grey\",\n",
    "    \"carbon\": \"green\",\n",
    "    \"oxygen\": \"C3\",\n",
    "    \"nitrogen\": \"purple\",\n",
    "}"
   ]
  },
  {
   "cell_type": "code",
   "execution_count": null,
   "id": "d9098e29-de2b-4be2-b6a6-66e22a4c94dc",
   "metadata": {},
   "outputs": [],
   "source": [
    "# plot in an interactive 3D viewer\n",
    "fig = plt.figure(figsize=(12, 12))\n",
    "ax = fig.add_subplot(projection=\"3d\", computed_zorder=False)\n",
    "lattice.set_colormap(colormap)\n",
    "lattice.draw_lattice(ax)\n",
    "lattice.draw_simulation_box(ax)\n",
    "ax.set_axis_off()\n",
    "ax.set_proj_type(\"ortho\")\n",
    "ax.legend()\n",
    "if mpl_has_aspect_ratio:\n",
    "    ax.set_aspect(\"equal\", adjustable=\"box\")\n",
    "plt.show()"
   ]
  }
 ],
 "metadata": {
  "kernelspec": {
   "display_name": "Python 3",
   "language": "python",
   "name": "python3"
  },
  "language_info": {
   "codemirror_mode": {
    "name": "ipython",
    "version": 3
   },
   "file_extension": ".py",
   "mimetype": "text/x-python",
   "name": "python",
   "nbconvert_exporter": "python",
   "pygments_lexer": "ipython3",
   "version": "3.10.12"
  }
 },
 "nbformat": 4,
 "nbformat_minor": 5
}
