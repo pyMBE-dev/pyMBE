{
 "cells": [
  {
   "cell_type": "markdown",
   "metadata": {},
   "source": [
    " # pyMBE Tutorial Solution: Alternating copolymer.\n",
    "\n",
    "\n",
    "\n"
   ]
  },
  {
   "cell_type": "markdown",
   "metadata": {},
   "source": [
    "This jupyter notebook presentes the solution to the proposed excise of creating an alternating PAA-PVAm copolymer (Polyacrylic acid - Polyvinylamine), whose structure is depicted in the figure below.\n",
    "\n",
    "<img src=\"../figs/PAA_PVAm.png\" width=250 height=250 />"
   ]
  },
  {
   "cell_type": "markdown",
   "metadata": {},
   "source": [
    "Let us get started by importing pyMBE library and other important libraries for this exercise, by creating an instance of pyMBE and by creating the simulation box."
   ]
  },
  {
   "cell_type": "code",
   "execution_count": null,
   "metadata": {},
   "outputs": [],
   "source": [
    "# Import pyMBE and  ESPResSo\n",
    "import pyMBE\n",
    "import espressomd\n",
    "from espressomd import interactions\n",
    "\n",
    "# Only necesary to produce the pictures used in this tutorial\n",
    "from lib.handy_functions import do_snapshot_espresso_system\n",
    "from PIL import Image\n",
    "\n",
    "\n",
    "pmb = pyMBE.pymbe_library(SEED=42)\n",
    "\n",
    "pmb.set_reduced_units(unit_length = 1.5*pmb.units.nm,  \n",
    "                      unit_charge = 5*pmb.units.e)\n",
    "\n",
    "Box_L = 7.5*pmb.units.nm\n",
    "\n",
    "espresso_system = espressomd.System(box_l = [Box_L.to('reduced_length').magnitude]*3)\n",
    "\n",
    "print('The side of the simulation box is ', Box_L, '=' ,Box_L.to('reduced_length'))"
   ]
  },
  {
   "cell_type": "markdown",
   "metadata": {},
   "source": [
    "### Tasks to do:\n",
    "\n",
    "1. Define each different bead of the PAA and PVAm.\n",
    "2. Define the different residues for the PAA and PVAm.\n",
    "3. Define the alternating block copolymer molecule. \n",
    "4. Create the alternating block copolymer into the espresso system.\n",
    "5. Visulalize your creation.\n",
    "6. Delete the molecule and check that your df is empty.\n"
   ]
  },
  {
   "cell_type": "markdown",
   "metadata": {},
   "source": [
    "#### 1. Define each different bead of the PAA and PVAm."
   ]
  },
  {
   "cell_type": "code",
   "execution_count": null,
   "metadata": {},
   "outputs": [],
   "source": [
    "PAA_backbone_bead = 'BB-PAA'\n",
    "PAA_carboxyl_bead = 'COOH-PAA'\n",
    "\n",
    "pmb.define_particle(name = PAA_backbone_bead, \n",
    "                    q = 0,\n",
    "                    sigma = 0.4*pmb.units.nm,\n",
    "                    epsilon = 1*pmb.units('reduced_energy'))\n",
    "\n",
    "pmb.define_particle(name = PAA_carboxyl_bead,\n",
    "                    q = 0,\n",
    "                    sigma = 0.5*pmb.units.nm,\n",
    "                    epsilon = 1*pmb.units('reduced_energy'))\n",
    "\n",
    "PVam_backbone_bead = 'BB-PVam'\n",
    "PVam_amine_bead = 'NH3-PVam'\n",
    "\n",
    "pmb.define_particle(name = PVam_backbone_bead,\n",
    "                    q = 0,\n",
    "                    sigma = 0.4*pmb.units.nm, \n",
    "                    epsilon = 1*pmb.units('reduced_energy'))\n",
    "\n",
    "pmb.define_particle(name = PVam_amine_bead,\n",
    "                    q = 0, \n",
    "                    sigma = 0.3*pmb.units.nm,\n",
    "                    epsilon = 1*pmb.units('reduced_energy'))"
   ]
  },
  {
   "cell_type": "markdown",
   "metadata": {},
   "source": [
    "#### 2. Define the different residues and the bonds for the PAA and PVAm."
   ]
  },
  {
   "cell_type": "code",
   "execution_count": null,
   "metadata": {},
   "outputs": [],
   "source": [
    "PAA_residue = 'PAA_mon'\n",
    "pmb.define_residue(name = PAA_residue, \n",
    "                   central_bead =  PAA_backbone_bead ,\n",
    "                   side_chains = [PAA_carboxyl_bead])\n",
    "\n",
    "PVam_residue = 'PVam_mon'\n",
    "pmb.define_residue( name = PVam_residue,\n",
    "                    central_bead = PVam_backbone_bead,\n",
    "                    side_chains = [PVam_amine_bead])\n",
    "\n",
    "bond_type = 'harmonic'\n",
    "generic_bond_lenght=0.4 * pmb.units.nm\n",
    "generic_harmonic_constant = 400 * pmb.units('reduced_energy / reduced_length**2')\n",
    "\n",
    "harmonic_bond = {'r_0'    : generic_bond_lenght,\n",
    "                 'k'      : generic_harmonic_constant}\n",
    "\n",
    "pmb.define_bond(bond_type = bond_type,\n",
    "                bond_parameters = harmonic_bond,\n",
    "                particle_pairs = [[PAA_backbone_bead, PAA_carboxyl_bead],\n",
    "                                  [PVam_backbone_bead, PVam_amine_bead],\n",
    "                                  [PAA_backbone_bead, PVam_backbone_bead]])\n",
    "\n",
    "pmb.add_bonds_to_espresso(espresso_system = espresso_system)"
   ]
  },
  {
   "cell_type": "markdown",
   "metadata": {},
   "source": [
    "#### 3. Define the alternating block copolymer molecule. "
   ]
  },
  {
   "cell_type": "code",
   "execution_count": null,
   "metadata": {},
   "outputs": [],
   "source": [
    "alternating_polymer = 'alternating'\n",
    "N_dimers = 4\n",
    "\n",
    "pmb.define_molecule(name = alternating_polymer,\n",
    "                    residue_list = [PAA_residue, PVam_residue]*N_dimers)"
   ]
  },
  {
   "cell_type": "markdown",
   "metadata": {},
   "source": [
    "#### 4. Create the alternating block copolymer into the espresso system."
   ]
  },
  {
   "cell_type": "code",
   "execution_count": null,
   "metadata": {},
   "outputs": [],
   "source": [
    "N_polymers = 1\n",
    "\n",
    "pmb.create_pmb_object(name = alternating_polymer,\n",
    "                      number_of_objects = N_polymers,\n",
    "                      espresso_system = espresso_system,\n",
    "                      position = [[Box_L.to('reduced_length').magnitude/2]*3]) "
   ]
  },
  {
   "cell_type": "markdown",
   "metadata": {},
   "source": [
    "#### 5. Visualize your creation."
   ]
  },
  {
   "cell_type": "code",
   "execution_count": null,
   "metadata": {},
   "outputs": [],
   "source": [
    "picture_name = 'alternating_system.png'\n",
    "do_snapshot_espresso_system(espresso_system = espresso_system, \n",
    "                               filename = picture_name)\n",
    "img = Image.open(picture_name)\n",
    "img.show()"
   ]
  },
  {
   "cell_type": "markdown",
   "metadata": {},
   "source": [
    "#### 6. Delete the molecule and check that your df is empty."
   ]
  },
  {
   "cell_type": "code",
   "execution_count": null,
   "metadata": {},
   "outputs": [],
   "source": [
    "pmb.destroy_pmb_object_in_system(name = alternating_polymer, \n",
    "                                 espresso_system = espresso_system)\n",
    "pmb.filter_df(pmb_type = 'particle')"
   ]
  }
 ],
 "metadata": {
  "hide_input": false,
  "kernelspec": {
   "display_name": "pyMBE",
   "language": "python",
   "name": "pymbe"
  },
  "language_info": {
   "codemirror_mode": {
    "name": "ipython",
    "version": 3
   },
   "file_extension": ".py",
   "mimetype": "text/x-python",
   "name": "python",
   "nbconvert_exporter": "python",
   "pygments_lexer": "ipython3",
   "version": "3.8.10"
  },
  "vscode": {
   "interpreter": {
    "hash": "916dbcbb3f70747c44a77c7bcd40155683ae19c65e1c03b4aa3499c5328201f1"
   }
  }
 },
 "nbformat": 4,
 "nbformat_minor": 4
}
